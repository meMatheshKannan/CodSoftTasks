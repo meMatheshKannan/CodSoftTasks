{
  "nbformat": 4,
  "nbformat_minor": 0,
  "metadata": {
    "colab": {
      "provenance": [],
      "gpuType": "T4",
      "include_colab_link": true
    },
    "kernelspec": {
      "name": "python3",
      "display_name": "Python 3"
    },
    "language_info": {
      "name": "python"
    },
    "accelerator": "GPU"
  },
  "cells": [
    {
      "cell_type": "markdown",
      "metadata": {
        "id": "view-in-github",
        "colab_type": "text"
      },
      "source": [
        "<a href=\"https://colab.research.google.com/github/meMatheshKannan/CodSoftTasks/blob/main/SPAM_SMS_DETECTION.ipynb\" target=\"_parent\"><img src=\"https://colab.research.google.com/assets/colab-badge.svg\" alt=\"Open In Colab\"/></a>"
      ]
    },
    {
      "cell_type": "code",
      "execution_count": 1,
      "metadata": {
        "id": "kvYhEyjtAOTS"
      },
      "outputs": [],
      "source": [
        "import tensorflow as tf\n",
        "import numpy as np\n",
        "import pandas as pd\n",
        "from tensorflow.keras.models import Sequential\n",
        "from tensorflow.keras import Input\n",
        "from sklearn.model_selection import train_test_split\n",
        "import matplotlib.pylab as plt\n"
      ]
    },
    {
      "cell_type": "code",
      "source": [
        "data = pd.read_csv(\"https://raw.githubusercontent.com/soaicbe/ml/master/spam.csv\")\n",
        "data"
      ],
      "metadata": {
        "colab": {
          "base_uri": "https://localhost:8080/",
          "height": 423
        },
        "id": "OEA3comEC5_p",
        "outputId": "3e4d511f-d7d1-40a5-ae31-2bc52bc1929f"
      },
      "execution_count": 2,
      "outputs": [
        {
          "output_type": "execute_result",
          "data": {
            "text/plain": [
              "     Category                                            Message\n",
              "0         ham  Go until jurong point, crazy.. Available only ...\n",
              "1         ham                      Ok lar... Joking wif u oni...\n",
              "2        spam  Free entry in 2 a wkly comp to win FA Cup fina...\n",
              "3         ham  U dun say so early hor... U c already then say...\n",
              "4         ham  Nah I don't think he goes to usf, he lives aro...\n",
              "...       ...                                                ...\n",
              "5567     spam  This is the 2nd time we have tried 2 contact u...\n",
              "5568      ham               Will ü b going to esplanade fr home?\n",
              "5569      ham  Pity, * was in mood for that. So...any other s...\n",
              "5570      ham  The guy did some bitching but I acted like i'd...\n",
              "5571      ham                         Rofl. Its true to its name\n",
              "\n",
              "[5572 rows x 2 columns]"
            ],
            "text/html": [
              "\n",
              "  <div id=\"df-0afc6070-19c8-4cc0-8ac5-44276591f6fb\" class=\"colab-df-container\">\n",
              "    <div>\n",
              "<style scoped>\n",
              "    .dataframe tbody tr th:only-of-type {\n",
              "        vertical-align: middle;\n",
              "    }\n",
              "\n",
              "    .dataframe tbody tr th {\n",
              "        vertical-align: top;\n",
              "    }\n",
              "\n",
              "    .dataframe thead th {\n",
              "        text-align: right;\n",
              "    }\n",
              "</style>\n",
              "<table border=\"1\" class=\"dataframe\">\n",
              "  <thead>\n",
              "    <tr style=\"text-align: right;\">\n",
              "      <th></th>\n",
              "      <th>Category</th>\n",
              "      <th>Message</th>\n",
              "    </tr>\n",
              "  </thead>\n",
              "  <tbody>\n",
              "    <tr>\n",
              "      <th>0</th>\n",
              "      <td>ham</td>\n",
              "      <td>Go until jurong point, crazy.. Available only ...</td>\n",
              "    </tr>\n",
              "    <tr>\n",
              "      <th>1</th>\n",
              "      <td>ham</td>\n",
              "      <td>Ok lar... Joking wif u oni...</td>\n",
              "    </tr>\n",
              "    <tr>\n",
              "      <th>2</th>\n",
              "      <td>spam</td>\n",
              "      <td>Free entry in 2 a wkly comp to win FA Cup fina...</td>\n",
              "    </tr>\n",
              "    <tr>\n",
              "      <th>3</th>\n",
              "      <td>ham</td>\n",
              "      <td>U dun say so early hor... U c already then say...</td>\n",
              "    </tr>\n",
              "    <tr>\n",
              "      <th>4</th>\n",
              "      <td>ham</td>\n",
              "      <td>Nah I don't think he goes to usf, he lives aro...</td>\n",
              "    </tr>\n",
              "    <tr>\n",
              "      <th>...</th>\n",
              "      <td>...</td>\n",
              "      <td>...</td>\n",
              "    </tr>\n",
              "    <tr>\n",
              "      <th>5567</th>\n",
              "      <td>spam</td>\n",
              "      <td>This is the 2nd time we have tried 2 contact u...</td>\n",
              "    </tr>\n",
              "    <tr>\n",
              "      <th>5568</th>\n",
              "      <td>ham</td>\n",
              "      <td>Will ü b going to esplanade fr home?</td>\n",
              "    </tr>\n",
              "    <tr>\n",
              "      <th>5569</th>\n",
              "      <td>ham</td>\n",
              "      <td>Pity, * was in mood for that. So...any other s...</td>\n",
              "    </tr>\n",
              "    <tr>\n",
              "      <th>5570</th>\n",
              "      <td>ham</td>\n",
              "      <td>The guy did some bitching but I acted like i'd...</td>\n",
              "    </tr>\n",
              "    <tr>\n",
              "      <th>5571</th>\n",
              "      <td>ham</td>\n",
              "      <td>Rofl. Its true to its name</td>\n",
              "    </tr>\n",
              "  </tbody>\n",
              "</table>\n",
              "<p>5572 rows × 2 columns</p>\n",
              "</div>\n",
              "    <div class=\"colab-df-buttons\">\n",
              "\n",
              "  <div class=\"colab-df-container\">\n",
              "    <button class=\"colab-df-convert\" onclick=\"convertToInteractive('df-0afc6070-19c8-4cc0-8ac5-44276591f6fb')\"\n",
              "            title=\"Convert this dataframe to an interactive table.\"\n",
              "            style=\"display:none;\">\n",
              "\n",
              "  <svg xmlns=\"http://www.w3.org/2000/svg\" height=\"24px\" viewBox=\"0 -960 960 960\">\n",
              "    <path d=\"M120-120v-720h720v720H120Zm60-500h600v-160H180v160Zm220 220h160v-160H400v160Zm0 220h160v-160H400v160ZM180-400h160v-160H180v160Zm440 0h160v-160H620v160ZM180-180h160v-160H180v160Zm440 0h160v-160H620v160Z\"/>\n",
              "  </svg>\n",
              "    </button>\n",
              "\n",
              "  <style>\n",
              "    .colab-df-container {\n",
              "      display:flex;\n",
              "      gap: 12px;\n",
              "    }\n",
              "\n",
              "    .colab-df-convert {\n",
              "      background-color: #E8F0FE;\n",
              "      border: none;\n",
              "      border-radius: 50%;\n",
              "      cursor: pointer;\n",
              "      display: none;\n",
              "      fill: #1967D2;\n",
              "      height: 32px;\n",
              "      padding: 0 0 0 0;\n",
              "      width: 32px;\n",
              "    }\n",
              "\n",
              "    .colab-df-convert:hover {\n",
              "      background-color: #E2EBFA;\n",
              "      box-shadow: 0px 1px 2px rgba(60, 64, 67, 0.3), 0px 1px 3px 1px rgba(60, 64, 67, 0.15);\n",
              "      fill: #174EA6;\n",
              "    }\n",
              "\n",
              "    .colab-df-buttons div {\n",
              "      margin-bottom: 4px;\n",
              "    }\n",
              "\n",
              "    [theme=dark] .colab-df-convert {\n",
              "      background-color: #3B4455;\n",
              "      fill: #D2E3FC;\n",
              "    }\n",
              "\n",
              "    [theme=dark] .colab-df-convert:hover {\n",
              "      background-color: #434B5C;\n",
              "      box-shadow: 0px 1px 3px 1px rgba(0, 0, 0, 0.15);\n",
              "      filter: drop-shadow(0px 1px 2px rgba(0, 0, 0, 0.3));\n",
              "      fill: #FFFFFF;\n",
              "    }\n",
              "  </style>\n",
              "\n",
              "    <script>\n",
              "      const buttonEl =\n",
              "        document.querySelector('#df-0afc6070-19c8-4cc0-8ac5-44276591f6fb button.colab-df-convert');\n",
              "      buttonEl.style.display =\n",
              "        google.colab.kernel.accessAllowed ? 'block' : 'none';\n",
              "\n",
              "      async function convertToInteractive(key) {\n",
              "        const element = document.querySelector('#df-0afc6070-19c8-4cc0-8ac5-44276591f6fb');\n",
              "        const dataTable =\n",
              "          await google.colab.kernel.invokeFunction('convertToInteractive',\n",
              "                                                    [key], {});\n",
              "        if (!dataTable) return;\n",
              "\n",
              "        const docLinkHtml = 'Like what you see? Visit the ' +\n",
              "          '<a target=\"_blank\" href=https://colab.research.google.com/notebooks/data_table.ipynb>data table notebook</a>'\n",
              "          + ' to learn more about interactive tables.';\n",
              "        element.innerHTML = '';\n",
              "        dataTable['output_type'] = 'display_data';\n",
              "        await google.colab.output.renderOutput(dataTable, element);\n",
              "        const docLink = document.createElement('div');\n",
              "        docLink.innerHTML = docLinkHtml;\n",
              "        element.appendChild(docLink);\n",
              "      }\n",
              "    </script>\n",
              "  </div>\n",
              "\n",
              "\n",
              "<div id=\"df-cc35a3ef-e892-4316-bf9c-f235ea11ede7\">\n",
              "  <button class=\"colab-df-quickchart\" onclick=\"quickchart('df-cc35a3ef-e892-4316-bf9c-f235ea11ede7')\"\n",
              "            title=\"Suggest charts\"\n",
              "            style=\"display:none;\">\n",
              "\n",
              "<svg xmlns=\"http://www.w3.org/2000/svg\" height=\"24px\"viewBox=\"0 0 24 24\"\n",
              "     width=\"24px\">\n",
              "    <g>\n",
              "        <path d=\"M19 3H5c-1.1 0-2 .9-2 2v14c0 1.1.9 2 2 2h14c1.1 0 2-.9 2-2V5c0-1.1-.9-2-2-2zM9 17H7v-7h2v7zm4 0h-2V7h2v10zm4 0h-2v-4h2v4z\"/>\n",
              "    </g>\n",
              "</svg>\n",
              "  </button>\n",
              "\n",
              "<style>\n",
              "  .colab-df-quickchart {\n",
              "      --bg-color: #E8F0FE;\n",
              "      --fill-color: #1967D2;\n",
              "      --hover-bg-color: #E2EBFA;\n",
              "      --hover-fill-color: #174EA6;\n",
              "      --disabled-fill-color: #AAA;\n",
              "      --disabled-bg-color: #DDD;\n",
              "  }\n",
              "\n",
              "  [theme=dark] .colab-df-quickchart {\n",
              "      --bg-color: #3B4455;\n",
              "      --fill-color: #D2E3FC;\n",
              "      --hover-bg-color: #434B5C;\n",
              "      --hover-fill-color: #FFFFFF;\n",
              "      --disabled-bg-color: #3B4455;\n",
              "      --disabled-fill-color: #666;\n",
              "  }\n",
              "\n",
              "  .colab-df-quickchart {\n",
              "    background-color: var(--bg-color);\n",
              "    border: none;\n",
              "    border-radius: 50%;\n",
              "    cursor: pointer;\n",
              "    display: none;\n",
              "    fill: var(--fill-color);\n",
              "    height: 32px;\n",
              "    padding: 0;\n",
              "    width: 32px;\n",
              "  }\n",
              "\n",
              "  .colab-df-quickchart:hover {\n",
              "    background-color: var(--hover-bg-color);\n",
              "    box-shadow: 0 1px 2px rgba(60, 64, 67, 0.3), 0 1px 3px 1px rgba(60, 64, 67, 0.15);\n",
              "    fill: var(--button-hover-fill-color);\n",
              "  }\n",
              "\n",
              "  .colab-df-quickchart-complete:disabled,\n",
              "  .colab-df-quickchart-complete:disabled:hover {\n",
              "    background-color: var(--disabled-bg-color);\n",
              "    fill: var(--disabled-fill-color);\n",
              "    box-shadow: none;\n",
              "  }\n",
              "\n",
              "  .colab-df-spinner {\n",
              "    border: 2px solid var(--fill-color);\n",
              "    border-color: transparent;\n",
              "    border-bottom-color: var(--fill-color);\n",
              "    animation:\n",
              "      spin 1s steps(1) infinite;\n",
              "  }\n",
              "\n",
              "  @keyframes spin {\n",
              "    0% {\n",
              "      border-color: transparent;\n",
              "      border-bottom-color: var(--fill-color);\n",
              "      border-left-color: var(--fill-color);\n",
              "    }\n",
              "    20% {\n",
              "      border-color: transparent;\n",
              "      border-left-color: var(--fill-color);\n",
              "      border-top-color: var(--fill-color);\n",
              "    }\n",
              "    30% {\n",
              "      border-color: transparent;\n",
              "      border-left-color: var(--fill-color);\n",
              "      border-top-color: var(--fill-color);\n",
              "      border-right-color: var(--fill-color);\n",
              "    }\n",
              "    40% {\n",
              "      border-color: transparent;\n",
              "      border-right-color: var(--fill-color);\n",
              "      border-top-color: var(--fill-color);\n",
              "    }\n",
              "    60% {\n",
              "      border-color: transparent;\n",
              "      border-right-color: var(--fill-color);\n",
              "    }\n",
              "    80% {\n",
              "      border-color: transparent;\n",
              "      border-right-color: var(--fill-color);\n",
              "      border-bottom-color: var(--fill-color);\n",
              "    }\n",
              "    90% {\n",
              "      border-color: transparent;\n",
              "      border-bottom-color: var(--fill-color);\n",
              "    }\n",
              "  }\n",
              "</style>\n",
              "\n",
              "  <script>\n",
              "    async function quickchart(key) {\n",
              "      const quickchartButtonEl =\n",
              "        document.querySelector('#' + key + ' button');\n",
              "      quickchartButtonEl.disabled = true;  // To prevent multiple clicks.\n",
              "      quickchartButtonEl.classList.add('colab-df-spinner');\n",
              "      try {\n",
              "        const charts = await google.colab.kernel.invokeFunction(\n",
              "            'suggestCharts', [key], {});\n",
              "      } catch (error) {\n",
              "        console.error('Error during call to suggestCharts:', error);\n",
              "      }\n",
              "      quickchartButtonEl.classList.remove('colab-df-spinner');\n",
              "      quickchartButtonEl.classList.add('colab-df-quickchart-complete');\n",
              "    }\n",
              "    (() => {\n",
              "      let quickchartButtonEl =\n",
              "        document.querySelector('#df-cc35a3ef-e892-4316-bf9c-f235ea11ede7 button');\n",
              "      quickchartButtonEl.style.display =\n",
              "        google.colab.kernel.accessAllowed ? 'block' : 'none';\n",
              "    })();\n",
              "  </script>\n",
              "</div>\n",
              "    </div>\n",
              "  </div>\n"
            ],
            "application/vnd.google.colaboratory.intrinsic+json": {
              "type": "dataframe",
              "variable_name": "data",
              "summary": "{\n  \"name\": \"data\",\n  \"rows\": 5572,\n  \"fields\": [\n    {\n      \"column\": \"Category\",\n      \"properties\": {\n        \"dtype\": \"category\",\n        \"num_unique_values\": 2,\n        \"samples\": [\n          \"spam\",\n          \"ham\"\n        ],\n        \"semantic_type\": \"\",\n        \"description\": \"\"\n      }\n    },\n    {\n      \"column\": \"Message\",\n      \"properties\": {\n        \"dtype\": \"string\",\n        \"num_unique_values\": 5157,\n        \"samples\": [\n          \"Also sir, i sent you an email about how to log into the usc payment portal. I.ll send you another message that should explain how things are back home. Have a great weekend.\",\n          \"Are you free now?can i call now?\"\n        ],\n        \"semantic_type\": \"\",\n        \"description\": \"\"\n      }\n    }\n  ]\n}"
            }
          },
          "metadata": {},
          "execution_count": 2
        }
      ]
    },
    {
      "cell_type": "code",
      "source": [
        "from sklearn.preprocessing import LabelEncoder\n",
        "encoder = LabelEncoder()\n",
        "data['Category'] = encoder.fit_transform(data['Category'])\n"
      ],
      "metadata": {
        "id": "nrJ1KLQ9Hpcq"
      },
      "execution_count": 3,
      "outputs": []
    },
    {
      "cell_type": "code",
      "source": [
        "X_train,X_test, y_train,y_test = train_test_split(data['Message'], data['Category'], test_size=0.2)"
      ],
      "metadata": {
        "id": "eTF3s8KSCXkj"
      },
      "execution_count": 4,
      "outputs": []
    },
    {
      "cell_type": "code",
      "source": [
        "X_test"
      ],
      "metadata": {
        "colab": {
          "base_uri": "https://localhost:8080/"
        },
        "id": "n7YvDX3uMKG9",
        "outputId": "436d684c-fe97-49bb-aa12-d26ecd01af50"
      },
      "execution_count": 5,
      "outputs": [
        {
          "output_type": "execute_result",
          "data": {
            "text/plain": [
              "1893    CALL 09090900040 & LISTEN TO EXTREME DIRTY LIV...\n",
              "4444    You know my old Dom I told you about yesterday...\n",
              "4788                         Ü thk of wat to eat tonight.\n",
              "1963    it to 80488. Your 500 free text messages are v...\n",
              "4189    Mm umma ask vava also to come tell him can pla...\n",
              "                              ...                        \n",
              "223                                Sorry, I'll call later\n",
              "2921    Thanx 4 the time weve spent 2geva, its bin mi...\n",
              "1188    There's no point hangin on to mr not right if ...\n",
              "1370                     Did you try making another butt.\n",
              "3622    That means from february to april i'll be gett...\n",
              "Name: Message, Length: 1115, dtype: object"
            ]
          },
          "metadata": {},
          "execution_count": 5
        }
      ]
    },
    {
      "cell_type": "code",
      "source": [
        "model = Sequential()\n",
        "model.add(Input(shape=(1,), dtype=\"string\"))"
      ],
      "metadata": {
        "id": "Bucx_tCFFVN-"
      },
      "execution_count": 6,
      "outputs": []
    },
    {
      "cell_type": "code",
      "source": [
        "from tensorflow.keras.layers.experimental.preprocessing import TextVectorization\n",
        "\n",
        "max_tokens = 100\n",
        "max_len = 10\n",
        "vectorize_layer = TextVectorization(\n",
        "  max_tokens=max_tokens,\n",
        "  output_mode=\"int\",\n",
        "  output_sequence_length=max_len,\n",
        ")"
      ],
      "metadata": {
        "id": "PmNGxWT9GREg"
      },
      "execution_count": 7,
      "outputs": []
    },
    {
      "cell_type": "code",
      "source": [
        "vectorize_layer.adapt(X_train)"
      ],
      "metadata": {
        "id": "MpfyWMLrGcDO"
      },
      "execution_count": 8,
      "outputs": []
    },
    {
      "cell_type": "code",
      "source": [
        "reverse_word_index = vectorize_layer.get_vocabulary()\n",
        "reverse_word_index"
      ],
      "metadata": {
        "colab": {
          "base_uri": "https://localhost:8080/"
        },
        "id": "KyCSjGqMGeq0",
        "outputId": "a5a734e7-b168-4084-ee20-6eddfd58078c"
      },
      "execution_count": 9,
      "outputs": [
        {
          "output_type": "execute_result",
          "data": {
            "text/plain": [
              "['',\n",
              " '[UNK]',\n",
              " 'i',\n",
              " 'to',\n",
              " 'you',\n",
              " 'a',\n",
              " 'the',\n",
              " 'u',\n",
              " 'and',\n",
              " 'is',\n",
              " 'in',\n",
              " 'me',\n",
              " 'my',\n",
              " 'for',\n",
              " 'your',\n",
              " 'it',\n",
              " 'of',\n",
              " 'have',\n",
              " 'call',\n",
              " 'on',\n",
              " 'that',\n",
              " 'are',\n",
              " '2',\n",
              " 'now',\n",
              " 'im',\n",
              " 'so',\n",
              " 'not',\n",
              " 'but',\n",
              " 'do',\n",
              " 'or',\n",
              " 'at',\n",
              " 'ur',\n",
              " 'can',\n",
              " 'with',\n",
              " 'if',\n",
              " 'get',\n",
              " 'will',\n",
              " 'be',\n",
              " 'just',\n",
              " 'no',\n",
              " 'we',\n",
              " 'this',\n",
              " 'its',\n",
              " 'up',\n",
              " '4',\n",
              " 'ltgt',\n",
              " 'dont',\n",
              " 'from',\n",
              " 'go',\n",
              " 'when',\n",
              " 'what',\n",
              " 'out',\n",
              " 'ok',\n",
              " 'free',\n",
              " 'all',\n",
              " 'how',\n",
              " 'know',\n",
              " 'got',\n",
              " 'ill',\n",
              " 'am',\n",
              " 'like',\n",
              " 'was',\n",
              " 'good',\n",
              " 'then',\n",
              " 'come',\n",
              " 'time',\n",
              " 'love',\n",
              " 'only',\n",
              " 'day',\n",
              " 'there',\n",
              " 'want',\n",
              " 'send',\n",
              " 'by',\n",
              " 'text',\n",
              " 'as',\n",
              " 'about',\n",
              " 'one',\n",
              " 'going',\n",
              " 'txt',\n",
              " 'he',\n",
              " 'lor',\n",
              " 'sorry',\n",
              " 'need',\n",
              " 'home',\n",
              " 'stop',\n",
              " 'back',\n",
              " 'still',\n",
              " 'see',\n",
              " 'r',\n",
              " 'n',\n",
              " 'our',\n",
              " 'her',\n",
              " 'she',\n",
              " 'today',\n",
              " 'da',\n",
              " 'later',\n",
              " 'cant',\n",
              " 'tell',\n",
              " 'well',\n",
              " 'reply']"
            ]
          },
          "metadata": {},
          "execution_count": 9
        }
      ]
    },
    {
      "cell_type": "code",
      "source": [
        "vectorize_layer.get_weights()"
      ],
      "metadata": {
        "colab": {
          "base_uri": "https://localhost:8080/"
        },
        "id": "DLUWl0UsGjHG",
        "outputId": "4cc52ead-e6f6-4ba9-94cc-70bf290f53c7"
      },
      "execution_count": 10,
      "outputs": [
        {
          "output_type": "execute_result",
          "data": {
            "text/plain": [
              "[array([b'i', b'to', b'you', b'a', b'the', b'u', b'and', b'is', b'in',\n",
              "        b'me', b'my', b'for', b'your', b'it', b'of', b'have', b'call',\n",
              "        b'on', b'that', b'are', b'2', b'now', b'im', b'so', b'not', b'but',\n",
              "        b'do', b'or', b'at', b'ur', b'can', b'with', b'if', b'get',\n",
              "        b'will', b'be', b'just', b'no', b'we', b'this', b'its', b'up',\n",
              "        b'4', b'ltgt', b'dont', b'from', b'go', b'when', b'what', b'out',\n",
              "        b'ok', b'free', b'all', b'how', b'know', b'got', b'ill', b'am',\n",
              "        b'like', b'was', b'good', b'then', b'come', b'time', b'love',\n",
              "        b'only', b'day', b'there', b'want', b'send', b'by', b'text', b'as',\n",
              "        b'about', b'one', b'going', b'txt', b'he', b'lor', b'sorry',\n",
              "        b'need', b'home', b'stop', b'back', b'still', b'see', b'r', b'n',\n",
              "        b'our', b'her', b'she', b'today', b'da', b'later', b'cant',\n",
              "        b'tell', b'well', b'reply'], dtype=object)]"
            ]
          },
          "metadata": {},
          "execution_count": 10
        }
      ]
    },
    {
      "cell_type": "code",
      "source": [
        "model.add(vectorize_layer)"
      ],
      "metadata": {
        "id": "qdHTs69FGm7W"
      },
      "execution_count": 11,
      "outputs": []
    },
    {
      "cell_type": "code",
      "source": [
        "model.summary()"
      ],
      "metadata": {
        "colab": {
          "base_uri": "https://localhost:8080/"
        },
        "id": "7fGyMG85Golr",
        "outputId": "df94c618-2ef2-46a2-a671-b654c2249c51"
      },
      "execution_count": 12,
      "outputs": [
        {
          "output_type": "stream",
          "name": "stdout",
          "text": [
            "Model: \"sequential\"\n",
            "_________________________________________________________________\n",
            " Layer (type)                Output Shape              Param #   \n",
            "=================================================================\n",
            " text_vectorization (TextVe  (None, 10)                0         \n",
            " ctorization)                                                    \n",
            "                                                                 \n",
            "=================================================================\n",
            "Total params: 0 (0.00 Byte)\n",
            "Trainable params: 0 (0.00 Byte)\n",
            "Non-trainable params: 0 (0.00 Byte)\n",
            "_________________________________________________________________\n"
          ]
        }
      ]
    },
    {
      "cell_type": "code",
      "source": [
        "from tensorflow.keras.layers import Embedding\n",
        "model.add(Embedding(max_tokens + 1, 8))"
      ],
      "metadata": {
        "id": "VVXlMiTKGsJ4"
      },
      "execution_count": 13,
      "outputs": []
    },
    {
      "cell_type": "code",
      "source": [
        "from tensorflow.keras.layers import LSTM, SimpleRNN\n",
        "model.add(LSTM(16))\n"
      ],
      "metadata": {
        "id": "9Ak_DpfPGuU5"
      },
      "execution_count": 14,
      "outputs": []
    },
    {
      "cell_type": "code",
      "source": [
        "from tensorflow.keras.layers import Dense\n",
        "\n",
        "model.add(Dense(16, activation=\"relu\"))\n",
        "model.add(Dense(1, activation=\"sigmoid\"))"
      ],
      "metadata": {
        "id": "Ta-DShMwGwv0"
      },
      "execution_count": 15,
      "outputs": []
    },
    {
      "cell_type": "code",
      "source": [
        "model.summary()"
      ],
      "metadata": {
        "colab": {
          "base_uri": "https://localhost:8080/"
        },
        "id": "XrUZTjkXGzqG",
        "outputId": "859afdba-db92-4d73-ae73-54726746a409"
      },
      "execution_count": 16,
      "outputs": [
        {
          "output_type": "stream",
          "name": "stdout",
          "text": [
            "Model: \"sequential\"\n",
            "_________________________________________________________________\n",
            " Layer (type)                Output Shape              Param #   \n",
            "=================================================================\n",
            " text_vectorization (TextVe  (None, 10)                0         \n",
            " ctorization)                                                    \n",
            "                                                                 \n",
            " embedding (Embedding)       (None, 10, 8)             808       \n",
            "                                                                 \n",
            " lstm (LSTM)                 (None, 16)                1600      \n",
            "                                                                 \n",
            " dense (Dense)               (None, 16)                272       \n",
            "                                                                 \n",
            " dense_1 (Dense)             (None, 1)                 17        \n",
            "                                                                 \n",
            "=================================================================\n",
            "Total params: 2697 (10.54 KB)\n",
            "Trainable params: 2697 (10.54 KB)\n",
            "Non-trainable params: 0 (0.00 Byte)\n",
            "_________________________________________________________________\n"
          ]
        }
      ]
    },
    {
      "cell_type": "code",
      "source": [
        "model.compile(\n",
        "  optimizer='adam',\n",
        "  loss='binary_crossentropy',\n",
        "  metrics=['accuracy'],\n",
        ")"
      ],
      "metadata": {
        "id": "hvzOD2RgG5tg"
      },
      "execution_count": 17,
      "outputs": []
    },
    {
      "cell_type": "code",
      "source": [
        "history = model.fit(X_train, y_train, epochs=100)\n"
      ],
      "metadata": {
        "colab": {
          "base_uri": "https://localhost:8080/"
        },
        "id": "ub9J9JZUG7sF",
        "outputId": "02d16bdc-4b9a-4524-d800-d99733e3ce06"
      },
      "execution_count": 18,
      "outputs": [
        {
          "output_type": "stream",
          "name": "stdout",
          "text": [
            "Epoch 1/100\n",
            "140/140 [==============================] - 13s 55ms/step - loss: 0.4229 - accuracy: 0.8672\n",
            "Epoch 2/100\n",
            "140/140 [==============================] - 3s 21ms/step - loss: 0.2209 - accuracy: 0.9143\n",
            "Epoch 3/100\n",
            "140/140 [==============================] - 2s 16ms/step - loss: 0.1829 - accuracy: 0.9345\n",
            "Epoch 4/100\n",
            "140/140 [==============================] - 2s 17ms/step - loss: 0.1774 - accuracy: 0.9336\n",
            "Epoch 5/100\n",
            "140/140 [==============================] - 4s 29ms/step - loss: 0.1731 - accuracy: 0.9356\n",
            "Epoch 6/100\n",
            "140/140 [==============================] - 3s 19ms/step - loss: 0.1691 - accuracy: 0.9385\n",
            "Epoch 7/100\n",
            "140/140 [==============================] - 3s 18ms/step - loss: 0.1684 - accuracy: 0.9387\n",
            "Epoch 8/100\n",
            "140/140 [==============================] - 2s 12ms/step - loss: 0.1678 - accuracy: 0.9399\n",
            "Epoch 9/100\n",
            "140/140 [==============================] - 1s 9ms/step - loss: 0.1657 - accuracy: 0.9408\n",
            "Epoch 10/100\n",
            "140/140 [==============================] - 1s 7ms/step - loss: 0.1644 - accuracy: 0.9417\n",
            "Epoch 11/100\n",
            "140/140 [==============================] - 1s 6ms/step - loss: 0.1660 - accuracy: 0.9410\n",
            "Epoch 12/100\n",
            "140/140 [==============================] - 1s 7ms/step - loss: 0.1619 - accuracy: 0.9462\n",
            "Epoch 13/100\n",
            "140/140 [==============================] - 1s 6ms/step - loss: 0.1621 - accuracy: 0.9441\n",
            "Epoch 14/100\n",
            "140/140 [==============================] - 1s 10ms/step - loss: 0.1622 - accuracy: 0.9439\n",
            "Epoch 15/100\n",
            "140/140 [==============================] - 1s 8ms/step - loss: 0.1612 - accuracy: 0.9430\n",
            "Epoch 16/100\n",
            "140/140 [==============================] - 1s 6ms/step - loss: 0.1604 - accuracy: 0.9435\n",
            "Epoch 17/100\n",
            "140/140 [==============================] - 1s 6ms/step - loss: 0.1597 - accuracy: 0.9439\n",
            "Epoch 18/100\n",
            "140/140 [==============================] - 1s 6ms/step - loss: 0.1583 - accuracy: 0.9453\n",
            "Epoch 19/100\n",
            "140/140 [==============================] - 1s 8ms/step - loss: 0.1596 - accuracy: 0.9457\n",
            "Epoch 20/100\n",
            "140/140 [==============================] - 1s 7ms/step - loss: 0.1576 - accuracy: 0.9468\n",
            "Epoch 21/100\n",
            "140/140 [==============================] - 1s 6ms/step - loss: 0.1585 - accuracy: 0.9455\n",
            "Epoch 22/100\n",
            "140/140 [==============================] - 1s 7ms/step - loss: 0.1571 - accuracy: 0.9441\n",
            "Epoch 23/100\n",
            "140/140 [==============================] - 1s 6ms/step - loss: 0.1547 - accuracy: 0.9448\n",
            "Epoch 24/100\n",
            "140/140 [==============================] - 1s 6ms/step - loss: 0.1524 - accuracy: 0.9455\n",
            "Epoch 25/100\n",
            "140/140 [==============================] - 1s 7ms/step - loss: 0.1495 - accuracy: 0.9468\n",
            "Epoch 26/100\n",
            "140/140 [==============================] - 1s 6ms/step - loss: 0.1464 - accuracy: 0.9488\n",
            "Epoch 27/100\n",
            "140/140 [==============================] - 1s 8ms/step - loss: 0.1411 - accuracy: 0.9522\n",
            "Epoch 28/100\n",
            "140/140 [==============================] - 1s 9ms/step - loss: 0.1429 - accuracy: 0.9491\n",
            "Epoch 29/100\n",
            "140/140 [==============================] - 1s 6ms/step - loss: 0.1404 - accuracy: 0.9491\n",
            "Epoch 30/100\n",
            "140/140 [==============================] - 1s 6ms/step - loss: 0.1388 - accuracy: 0.9509\n",
            "Epoch 31/100\n",
            "140/140 [==============================] - 1s 6ms/step - loss: 0.1369 - accuracy: 0.9524\n",
            "Epoch 32/100\n",
            "140/140 [==============================] - 1s 6ms/step - loss: 0.1350 - accuracy: 0.9531\n",
            "Epoch 33/100\n",
            "140/140 [==============================] - 1s 6ms/step - loss: 0.1335 - accuracy: 0.9529\n",
            "Epoch 34/100\n",
            "140/140 [==============================] - 1s 6ms/step - loss: 0.1327 - accuracy: 0.9538\n",
            "Epoch 35/100\n",
            "140/140 [==============================] - 1s 6ms/step - loss: 0.1302 - accuracy: 0.9538\n",
            "Epoch 36/100\n",
            "140/140 [==============================] - 1s 6ms/step - loss: 0.1282 - accuracy: 0.9533\n",
            "Epoch 37/100\n",
            "140/140 [==============================] - 1s 6ms/step - loss: 0.1277 - accuracy: 0.9527\n",
            "Epoch 38/100\n",
            "140/140 [==============================] - 1s 6ms/step - loss: 0.1255 - accuracy: 0.9560\n",
            "Epoch 39/100\n",
            "140/140 [==============================] - 1s 6ms/step - loss: 0.1227 - accuracy: 0.9547\n",
            "Epoch 40/100\n",
            "140/140 [==============================] - 1s 7ms/step - loss: 0.1236 - accuracy: 0.9549\n",
            "Epoch 41/100\n",
            "140/140 [==============================] - 1s 8ms/step - loss: 0.1205 - accuracy: 0.9551\n",
            "Epoch 42/100\n",
            "140/140 [==============================] - 1s 9ms/step - loss: 0.1194 - accuracy: 0.9569\n",
            "Epoch 43/100\n",
            "140/140 [==============================] - 1s 6ms/step - loss: 0.1188 - accuracy: 0.9569\n",
            "Epoch 44/100\n",
            "140/140 [==============================] - 1s 6ms/step - loss: 0.1177 - accuracy: 0.9558\n",
            "Epoch 45/100\n",
            "140/140 [==============================] - 1s 6ms/step - loss: 0.1142 - accuracy: 0.9542\n",
            "Epoch 46/100\n",
            "140/140 [==============================] - 1s 6ms/step - loss: 0.1151 - accuracy: 0.9554\n",
            "Epoch 47/100\n",
            "140/140 [==============================] - 1s 6ms/step - loss: 0.1117 - accuracy: 0.9580\n",
            "Epoch 48/100\n",
            "140/140 [==============================] - 1s 6ms/step - loss: 0.1112 - accuracy: 0.9565\n",
            "Epoch 49/100\n",
            "140/140 [==============================] - 1s 6ms/step - loss: 0.1118 - accuracy: 0.9562\n",
            "Epoch 50/100\n",
            "140/140 [==============================] - 1s 6ms/step - loss: 0.1148 - accuracy: 0.9540\n",
            "Epoch 51/100\n",
            "140/140 [==============================] - 1s 6ms/step - loss: 0.1098 - accuracy: 0.9580\n",
            "Epoch 52/100\n",
            "140/140 [==============================] - 1s 6ms/step - loss: 0.1097 - accuracy: 0.9580\n",
            "Epoch 53/100\n",
            "140/140 [==============================] - 1s 6ms/step - loss: 0.1070 - accuracy: 0.9583\n",
            "Epoch 54/100\n",
            "140/140 [==============================] - 1s 6ms/step - loss: 0.1085 - accuracy: 0.9578\n",
            "Epoch 55/100\n",
            "140/140 [==============================] - 1s 8ms/step - loss: 0.1069 - accuracy: 0.9576\n",
            "Epoch 56/100\n",
            "140/140 [==============================] - 1s 8ms/step - loss: 0.1061 - accuracy: 0.9592\n",
            "Epoch 57/100\n",
            "140/140 [==============================] - 1s 6ms/step - loss: 0.1014 - accuracy: 0.9605\n",
            "Epoch 58/100\n",
            "140/140 [==============================] - 1s 7ms/step - loss: 0.1050 - accuracy: 0.9594\n",
            "Epoch 59/100\n",
            "140/140 [==============================] - 1s 6ms/step - loss: 0.1012 - accuracy: 0.9589\n",
            "Epoch 60/100\n",
            "140/140 [==============================] - 1s 7ms/step - loss: 0.1000 - accuracy: 0.9610\n",
            "Epoch 61/100\n",
            "140/140 [==============================] - 1s 6ms/step - loss: 0.0973 - accuracy: 0.9614\n",
            "Epoch 62/100\n",
            "140/140 [==============================] - 1s 6ms/step - loss: 0.0985 - accuracy: 0.9612\n",
            "Epoch 63/100\n",
            "140/140 [==============================] - 1s 6ms/step - loss: 0.0995 - accuracy: 0.9585\n",
            "Epoch 64/100\n",
            "140/140 [==============================] - 1s 6ms/step - loss: 0.0993 - accuracy: 0.9598\n",
            "Epoch 65/100\n",
            "140/140 [==============================] - 1s 6ms/step - loss: 0.0977 - accuracy: 0.9616\n",
            "Epoch 66/100\n",
            "140/140 [==============================] - 1s 7ms/step - loss: 0.0953 - accuracy: 0.9607\n",
            "Epoch 67/100\n",
            "140/140 [==============================] - 1s 7ms/step - loss: 0.0950 - accuracy: 0.9632\n",
            "Epoch 68/100\n",
            "140/140 [==============================] - 1s 9ms/step - loss: 0.0932 - accuracy: 0.9639\n",
            "Epoch 69/100\n",
            "140/140 [==============================] - 1s 8ms/step - loss: 0.0922 - accuracy: 0.9652\n",
            "Epoch 70/100\n",
            "140/140 [==============================] - 1s 6ms/step - loss: 0.0925 - accuracy: 0.9657\n",
            "Epoch 71/100\n",
            "140/140 [==============================] - 1s 6ms/step - loss: 0.0910 - accuracy: 0.9668\n",
            "Epoch 72/100\n",
            "140/140 [==============================] - 1s 6ms/step - loss: 0.0908 - accuracy: 0.9654\n",
            "Epoch 73/100\n",
            "140/140 [==============================] - 1s 7ms/step - loss: 0.0895 - accuracy: 0.9650\n",
            "Epoch 74/100\n",
            "140/140 [==============================] - 1s 6ms/step - loss: 0.0882 - accuracy: 0.9659\n",
            "Epoch 75/100\n",
            "140/140 [==============================] - 1s 6ms/step - loss: 0.0881 - accuracy: 0.9657\n",
            "Epoch 76/100\n",
            "140/140 [==============================] - 1s 6ms/step - loss: 0.0906 - accuracy: 0.9672\n",
            "Epoch 77/100\n",
            "140/140 [==============================] - 1s 6ms/step - loss: 0.0870 - accuracy: 0.9672\n",
            "Epoch 78/100\n",
            "140/140 [==============================] - 1s 6ms/step - loss: 0.0840 - accuracy: 0.9695\n",
            "Epoch 79/100\n",
            "140/140 [==============================] - 1s 6ms/step - loss: 0.0830 - accuracy: 0.9704\n",
            "Epoch 80/100\n",
            "140/140 [==============================] - 1s 6ms/step - loss: 0.0842 - accuracy: 0.9702\n",
            "Epoch 81/100\n",
            "140/140 [==============================] - 1s 7ms/step - loss: 0.0830 - accuracy: 0.9695\n",
            "Epoch 82/100\n",
            "140/140 [==============================] - 1s 8ms/step - loss: 0.0820 - accuracy: 0.9722\n",
            "Epoch 83/100\n",
            "140/140 [==============================] - 1s 7ms/step - loss: 0.0831 - accuracy: 0.9679\n",
            "Epoch 84/100\n",
            "140/140 [==============================] - 1s 6ms/step - loss: 0.0765 - accuracy: 0.9749\n",
            "Epoch 85/100\n",
            "140/140 [==============================] - 1s 6ms/step - loss: 0.0781 - accuracy: 0.9737\n",
            "Epoch 86/100\n",
            "140/140 [==============================] - 1s 6ms/step - loss: 0.0775 - accuracy: 0.9733\n",
            "Epoch 87/100\n",
            "140/140 [==============================] - 1s 6ms/step - loss: 0.0752 - accuracy: 0.9740\n",
            "Epoch 88/100\n",
            "140/140 [==============================] - 1s 6ms/step - loss: 0.0750 - accuracy: 0.9729\n",
            "Epoch 89/100\n",
            "140/140 [==============================] - 1s 6ms/step - loss: 0.0761 - accuracy: 0.9731\n",
            "Epoch 90/100\n",
            "140/140 [==============================] - 1s 6ms/step - loss: 0.0724 - accuracy: 0.9758\n",
            "Epoch 91/100\n",
            "140/140 [==============================] - 1s 6ms/step - loss: 0.0735 - accuracy: 0.9773\n",
            "Epoch 92/100\n",
            "140/140 [==============================] - 1s 6ms/step - loss: 0.0724 - accuracy: 0.9760\n",
            "Epoch 93/100\n",
            "140/140 [==============================] - 1s 6ms/step - loss: 0.0682 - accuracy: 0.9785\n",
            "Epoch 94/100\n",
            "140/140 [==============================] - 1s 6ms/step - loss: 0.0708 - accuracy: 0.9746\n",
            "Epoch 95/100\n",
            "140/140 [==============================] - 1s 8ms/step - loss: 0.0697 - accuracy: 0.9769\n",
            "Epoch 96/100\n",
            "140/140 [==============================] - 1s 9ms/step - loss: 0.0698 - accuracy: 0.9776\n",
            "Epoch 97/100\n",
            "140/140 [==============================] - 1s 7ms/step - loss: 0.0661 - accuracy: 0.9787\n",
            "Epoch 98/100\n",
            "140/140 [==============================] - 1s 6ms/step - loss: 0.0726 - accuracy: 0.9755\n",
            "Epoch 99/100\n",
            "140/140 [==============================] - 1s 6ms/step - loss: 0.0766 - accuracy: 0.9722\n",
            "Epoch 100/100\n",
            "140/140 [==============================] - 1s 6ms/step - loss: 0.0659 - accuracy: 0.9780\n"
          ]
        }
      ]
    },
    {
      "cell_type": "code",
      "source": [
        "plt.plot(history.history['accuracy'])\n",
        "plt.title('model accuracy')\n",
        "plt.ylabel('accuracy')\n",
        "plt.xlabel('epoch')\n",
        "plt.legend(['train', 'test'], loc='upper left')\n",
        "plt.show()"
      ],
      "metadata": {
        "colab": {
          "base_uri": "https://localhost:8080/",
          "height": 472
        },
        "id": "T8nfFNzjHCSg",
        "outputId": "08d9899f-f9c1-4152-9c85-d6cc0755f638"
      },
      "execution_count": 19,
      "outputs": [
        {
          "output_type": "display_data",
          "data": {
            "text/plain": [
              "<Figure size 640x480 with 1 Axes>"
            ],
            "image/png": "[encoded data removed]"
          },
          "metadata": {}
        }
      ]
    },
    {
      "cell_type": "code",
      "source": [
        "plt.plot(history.history['loss'])\n",
        "plt.title('model loss')\n",
        "plt.ylabel('loss')\n",
        "plt.xlabel('epoch')\n",
        "plt.legend(['train', 'test'], loc='upper left')\n",
        "plt.show()"
      ],
      "metadata": {
        "colab": {
          "base_uri": "https://localhost:8080/",
          "height": 472
        },
        "id": "PtPi3WBUNH4v",
        "outputId": "97b93b38-60ea-4ca0-8fd7-3fb478718ccf"
      },
      "execution_count": 20,
      "outputs": [
        {
          "output_type": "display_data",
          "data": {
            "text/plain": [
              "<Figure size 640x480 with 1 Axes>"
            ],
            "image/png": "[encoded data removed]"
          },
          "metadata": {}
        }
      ]
    },
    {
      "cell_type": "code",
      "source": [
        "print(model.predict([\n",
        "  \"Free entry in 2 a wkly comp to win FA Cup fina...\",\n",
        "]))"
      ],
      "metadata": {
        "colab": {
          "base_uri": "https://localhost:8080/"
        },
        "id": "huOpiokcNl4Z",
        "outputId": "5ef49f11-93b4-4351-c21e-63135737570d"
      },
      "execution_count": 21,
      "outputs": [
        {
          "output_type": "stream",
          "name": "stdout",
          "text": [
            "1/1 [==============================] - 0s 469ms/step\n",
            "[[0.972114]]\n"
          ]
        }
      ]
    },
    {
      "cell_type": "code",
      "source": [
        "print(model.predict([\n",
        "  \"Where are you Dear\",\n",
        "]))"
      ],
      "metadata": {
        "colab": {
          "base_uri": "https://localhost:8080/"
        },
        "id": "-e_V9XARNwSL",
        "outputId": "45113f28-945e-47f9-ed3c-5c2614671f40"
      },
      "execution_count": 22,
      "outputs": [
        {
          "output_type": "stream",
          "name": "stdout",
          "text": [
            "1/1 [==============================] - 0s 42ms/step\n",
            "[[0.02531264]]\n"
          ]
        }
      ]
    },
    {
      "cell_type": "code",
      "source": [
        "e = model.layers[1]\n",
        "weights = e.get_weights()[0]\n",
        "print(weights.shape)"
      ],
      "metadata": {
        "colab": {
          "base_uri": "https://localhost:8080/"
        },
        "id": "ypcY6RtOUzrT",
        "outputId": "2c040cc8-b68b-4949-cb9e-7da3bf0f1894"
      },
      "execution_count": 23,
      "outputs": [
        {
          "output_type": "stream",
          "name": "stdout",
          "text": [
            "(101, 8)\n"
          ]
        }
      ]
    },
    {
      "cell_type": "code",
      "source": [
        "import io\n",
        "out_v = io.open('vecs.tsv', 'w', encoding='utf-8')\n",
        "out_m = io.open('meta.tsv', 'w', encoding='utf-8')\n",
        "for word_num in range(1, max_tokens):\n",
        "  word = reverse_word_index[word_num]\n",
        "  embeddings = weights[word_num]\n",
        "  out_m.write(word + \"\\n\")\n",
        "  out_v.write('\\t'.join([str(x) for x in embeddings]) + \"\\n\")\n",
        "out_v.close()\n",
        "out_m.close()"
      ],
      "metadata": {
        "id": "ls2v8dTHVh_c"
      },
      "execution_count": 24,
      "outputs": []
    },
    {
      "cell_type": "code",
      "source": [
        "try:\n",
        "  from google.colab import files\n",
        "except ImportError:\n",
        "  pass\n",
        "else:\n",
        "  files.download('vecs.tsv')\n",
        "  files.download('meta.tsv')"
      ],
      "metadata": {
        "colab": {
          "base_uri": "https://localhost:8080/",
          "height": 17
        },
        "id": "el1shozeVyT0",
        "outputId": "20bcf610-c60e-49b9-e887-8729d35d8288"
      },
      "execution_count": 25,
      "outputs": [
        {
          "output_type": "display_data",
          "data": {
            "text/plain": [
              "<IPython.core.display.Javascript object>"
            ],
            "application/javascript": [
              "\n",
              "    async function download(id, filename, size) {\n",
              "      if (!google.colab.kernel.accessAllowed) {\n",
              "        return;\n",
              "      }\n",
              "      const div = document.createElement('div');\n",
              "      const label = document.createElement('label');\n",
              "      label.textContent = `Downloading \"${filename}\": `;\n",
              "      div.appendChild(label);\n",
              "      const progress = document.createElement('progress');\n",
              "      progress.max = size;\n",
              "      div.appendChild(progress);\n",
              "      document.body.appendChild(div);\n",
              "\n",
              "      const buffers = [];\n",
              "      let downloaded = 0;\n",
              "\n",
              "      const channel = await google.colab.kernel.comms.open(id);\n",
              "      // Send a message to notify the kernel that we're ready.\n",
              "      channel.send({})\n",
              "\n",
              "      for await (const message of channel.messages) {\n",
              "        // Send a message to notify the kernel that we're ready.\n",
              "        channel.send({})\n",
              "        if (message.buffers) {\n",
              "          for (const buffer of message.buffers) {\n",
              "            buffers.push(buffer);\n",
              "            downloaded += buffer.byteLength;\n",
              "            progress.value = downloaded;\n",
              "          }\n",
              "        }\n",
              "      }\n",
              "      const blob = new Blob(buffers, {type: 'application/binary'});\n",
              "      const a = document.createElement('a');\n",
              "      a.href = window.URL.createObjectURL(blob);\n",
              "      a.download = filename;\n",
              "      div.appendChild(a);\n",
              "      a.click();\n",
              "      div.remove();\n",
              "    }\n",
              "  "
            ]
          },
          "metadata": {}
        },
        {
          "output_type": "display_data",
          "data": {
            "text/plain": [
              "<IPython.core.display.Javascript object>"
            ],
            "application/javascript": [
              "download(\"download_b67c9bce-0b8e-49e0-8e1d-602b74146e0b\", \"vecs.tsv\", 9120)"
            ]
          },
          "metadata": {}
        },
        {
          "output_type": "display_data",
          "data": {
            "text/plain": [
              "<IPython.core.display.Javascript object>"
            ],
            "application/javascript": [
              "\n",
              "    async function download(id, filename, size) {\n",
              "      if (!google.colab.kernel.accessAllowed) {\n",
              "        return;\n",
              "      }\n",
              "      const div = document.createElement('div');\n",
              "      const label = document.createElement('label');\n",
              "      label.textContent = `Downloading \"${filename}\": `;\n",
              "      div.appendChild(label);\n",
              "      const progress = document.createElement('progress');\n",
              "      progress.max = size;\n",
              "      div.appendChild(progress);\n",
              "      document.body.appendChild(div);\n",
              "\n",
              "      const buffers = [];\n",
              "      let downloaded = 0;\n",
              "\n",
              "      const channel = await google.colab.kernel.comms.open(id);\n",
              "      // Send a message to notify the kernel that we're ready.\n",
              "      channel.send({})\n",
              "\n",
              "      for await (const message of channel.messages) {\n",
              "        // Send a message to notify the kernel that we're ready.\n",
              "        channel.send({})\n",
              "        if (message.buffers) {\n",
              "          for (const buffer of message.buffers) {\n",
              "            buffers.push(buffer);\n",
              "            downloaded += buffer.byteLength;\n",
              "            progress.value = downloaded;\n",
              "          }\n",
              "        }\n",
              "      }\n",
              "      const blob = new Blob(buffers, {type: 'application/binary'});\n",
              "      const a = document.createElement('a');\n",
              "      a.href = window.URL.createObjectURL(blob);\n",
              "      a.download = filename;\n",
              "      div.appendChild(a);\n",
              "      a.click();\n",
              "      div.remove();\n",
              "    }\n",
              "  "
            ]
          },
          "metadata": {}
        },
        {
          "output_type": "display_data",
          "data": {
            "text/plain": [
              "<IPython.core.display.Javascript object>"
            ],
            "application/javascript": [
              "download(\"download_cd011a9a-43f1-4c72-b7b5-bcf7f46f1b78\", \"meta.tsv\", 406)"
            ]
          },
          "metadata": {}
        }
      ]
    },
    {
      "cell_type": "code",
      "source": [
        "words = np.loadtxt('meta.tsv', skiprows=1, dtype=str)\n",
        "words"
      ],
      "metadata": {
        "colab": {
          "base_uri": "https://localhost:8080/"
        },
        "id": "OeD0qGPHV008",
        "outputId": "aba4e93e-291f-4ff8-d0ee-ce96d7b717bd"
      },
      "execution_count": 26,
      "outputs": [
        {
          "output_type": "execute_result",
          "data": {
            "text/plain": [
              "array(['i', 'to', 'you', 'a', 'the', 'u', 'and', 'is', 'in', 'me', 'my',\n",
              "       'for', 'your', 'it', 'of', 'have', 'call', 'on', 'that', 'are',\n",
              "       '2', 'now', 'im', 'so', 'not', 'but', 'do', 'or', 'at', 'ur',\n",
              "       'can', 'with', 'if', 'get', 'will', 'be', 'just', 'no', 'we',\n",
              "       'this', 'its', 'up', '4', 'ltgt', 'dont', 'from', 'go', 'when',\n",
              "       'what', 'out', 'ok', 'free', 'all', 'how', 'know', 'got', 'ill',\n",
              "       'am', 'like', 'was', 'good', 'then', 'come', 'time', 'love',\n",
              "       'only', 'day', 'there', 'want', 'send', 'by', 'text', 'as',\n",
              "       'about', 'one', 'going', 'txt', 'he', 'lor', 'sorry', 'need',\n",
              "       'home', 'stop', 'back', 'still', 'see', 'r', 'n', 'our', 'her',\n",
              "       'she', 'today', 'da', 'later', 'cant', 'tell', 'well', 'reply'],\n",
              "      dtype='<U5')"
            ]
          },
          "metadata": {},
          "execution_count": 26
        }
      ]
    },
    {
      "cell_type": "code",
      "source": [
        "vectors = np.loadtxt('vecs.tsv', skiprows=1)\n",
        "vectors"
      ],
      "metadata": {
        "colab": {
          "base_uri": "https://localhost:8080/"
        },
        "id": "WWpf3KvAV6KL",
        "outputId": "06cbdeeb-4bd2-4a01-b9b9-7ee61ec1a58c"
      },
      "execution_count": 27,
      "outputs": [
        {
          "output_type": "execute_result",
          "data": {
            "text/plain": [
              "array([[-0.07338891, -0.5247216 ,  0.3466442 , -0.22581638,  0.39775375,\n",
              "        -0.02600869, -0.40140787, -0.260649  ],\n",
              "       [ 0.1626289 ,  0.02567359, -0.03183151,  0.22793092, -0.08817603,\n",
              "        -0.13666975, -0.09342185, -0.04792285],\n",
              "       [ 0.16565524, -0.13661411,  0.04929079,  0.03124968,  0.04438136,\n",
              "        -0.07366543, -0.1079632 , -0.2830986 ],\n",
              "       [ 0.1899549 ,  0.04931942, -0.02151966, -0.03177812, -0.02986191,\n",
              "         0.10301071,  0.1118779 ,  0.03811108],\n",
              "       [-0.03562853, -0.02513792,  0.03008082, -0.18517865, -0.0247293 ,\n",
              "        -0.08000802, -0.11436993,  0.05662862],\n",
              "       [ 0.035071  ,  0.00670596, -0.0149805 , -0.02633101,  0.0684337 ,\n",
              "         0.05030052,  0.0519705 , -0.16427787],\n",
              "       [-0.14738762, -0.11421755,  0.08810973,  0.19301209,  0.05380245,\n",
              "        -0.18494566, -0.23015802, -0.08245312],\n",
              "       [ 0.07864546,  0.05008638,  0.04214116, -0.13504177,  0.2243868 ,\n",
              "         0.14778714,  0.11965527, -0.02031803],\n",
              "       [ 0.00972579, -0.21582766,  0.05898002,  0.03068163,  0.05074186,\n",
              "        -0.16954215, -0.14177483,  0.00547375],\n",
              "       [-0.1268178 , -0.66825396,  0.7494353 , -0.67594904,  0.52544135,\n",
              "         0.04733076, -0.5850132 , -0.15799823],\n",
              "       [-0.37758973, -0.34811088,  0.3170095 , -0.16485448,  0.32186112,\n",
              "         0.60240763, -0.59269005, -0.64303035],\n",
              "       [ 0.19599237,  0.07412402, -0.04636797,  0.13655536,  0.10633647,\n",
              "         0.25432825,  0.13689932,  0.01010412],\n",
              "       [-0.13996652,  0.3105204 , -0.16376168,  0.4273577 , -0.43851647,\n",
              "        -0.27574185,  0.20276015,  0.21839473],\n",
              "       [-0.41112933, -0.5419873 ,  0.5801498 , -0.5811027 ,  0.06754402,\n",
              "        -0.03749875, -0.67937136, -0.12172633],\n",
              "       [ 0.06051284,  0.00449578,  0.08103391, -0.20061211, -0.03863363,\n",
              "         0.22428282,  0.0867031 ,  0.15523644],\n",
              "       [ 0.3148752 ,  0.1888701 , -0.14514528,  0.15685408, -0.08227366,\n",
              "        -0.11499698,  0.22131431,  0.09768236],\n",
              "       [ 0.21390028,  0.67048323, -0.7864923 ,  0.4815607 , -0.61784273,\n",
              "        -0.1959498 ,  0.38543475,  0.13557458],\n",
              "       [ 0.10375545, -0.19165275,  0.1617965 , -0.40607086,  0.21326274,\n",
              "        -0.1823223 , -0.06819034, -0.06428129],\n",
              "       [-0.3141964 , -0.7007046 ,  0.6537855 , -0.5067747 ,  0.30593947,\n",
              "         0.42541334, -0.63655615, -0.45126855],\n",
              "       [ 0.27891147,  0.079498  , -0.11224205,  0.21429059, -0.16136451,\n",
              "        -0.0290087 ,  0.0115166 , -0.01311596],\n",
              "       [ 0.06684676,  0.05580764, -0.06181365,  0.13460512, -0.10774439,\n",
              "         0.00884788, -0.049139  ,  0.04132198],\n",
              "       [-0.02857226, -0.0535351 , -0.00469478, -0.32536104, -0.02425935,\n",
              "        -0.4406649 ,  0.00479799,  0.27418593],\n",
              "       [-0.30791807, -0.8737837 ,  0.8130887 , -0.82310784,  0.9210174 ,\n",
              "        -0.12634285, -0.35148057,  0.01861557],\n",
              "       [ 0.19677012, -0.12260079,  0.17011026,  0.5165222 ,  0.34302315,\n",
              "         0.2088383 , -0.32143876, -0.2928928 ],\n",
              "       [-0.27120632, -0.13697572,  0.05500141, -0.14595859,  0.01754714,\n",
              "         0.44679087, -0.20478581, -0.15396339],\n",
              "       [-0.48659763, -0.52653325,  0.5455786 , -0.37243488,  0.70796967,\n",
              "         0.8740314 , -0.48244452, -0.60994077],\n",
              "       [-0.01627698, -0.21331616,  0.19966327, -0.06609482,  0.14655513,\n",
              "         0.32878307, -0.19190314, -0.31447655],\n",
              "       [-0.02548528, -0.08891363,  0.20709927, -0.27563182, -0.00870364,\n",
              "        -0.09530423, -0.03726776,  0.32304367],\n",
              "       [ 0.2869674 , -0.28625014,  0.2575058 , -0.32067415,  0.8080587 ,\n",
              "         0.0727942 , -0.01319877, -0.19267876],\n",
              "       [ 0.05377557,  0.21799755, -0.25733012,  0.37427434, -0.2919236 ,\n",
              "         0.42339084,  0.06232116, -0.07928161],\n",
              "       [ 0.16327876, -0.0060309 , -0.06717512,  0.03041947, -0.05817157,\n",
              "         0.01303304, -0.05409732, -0.06758707],\n",
              "       [ 0.00646478,  0.05141588,  0.09096131, -0.08711696,  0.19432788,\n",
              "        -0.35881904, -0.00873818,  0.20337614],\n",
              "       [ 0.09872632, -0.02535179, -0.01210039, -0.13121623,  0.19505887,\n",
              "         0.02051191,  0.05391774, -0.02921489],\n",
              "       [-0.367788  , -0.07808847, -0.01011257, -0.15207106, -0.08139612,\n",
              "         0.25341138,  0.06203435, -0.24512166],\n",
              "       [ 0.21423364,  0.00931463, -0.02249369, -0.01574479,  0.14240949,\n",
              "        -0.22407609,  0.1028821 ,  0.28831428],\n",
              "       [-0.09299476,  0.07824336, -0.0543778 ,  0.25078723, -0.31705204,\n",
              "         0.39568326,  0.02700088, -0.12933527],\n",
              "       [-0.01238044, -0.04548619, -0.01375244, -0.11058653,  0.0381412 ,\n",
              "         0.06741279,  0.04128201,  0.07482953],\n",
              "       [ 0.08564202, -0.1221151 ,  0.09593996, -0.05038575,  0.171343  ,\n",
              "         0.6038834 , -0.08886081, -0.15993996],\n",
              "       [-0.05773506, -0.07150878,  0.09847739, -0.02301441, -0.01933015,\n",
              "         0.36396903, -0.23129609, -0.1441736 ],\n",
              "       [ 0.1852638 ,  0.11720911, -0.17628023,  0.31089458, -0.25169843,\n",
              "         0.15879993,  0.12130362,  0.02417361],\n",
              "       [-0.48964837, -0.47816005,  0.36799154, -0.28304455,  0.21270019,\n",
              "         0.26180676, -0.37665346, -0.24449514],\n",
              "       [ 0.07207356, -0.17061342,  0.19803292, -0.15835303,  0.10654403,\n",
              "         0.27299315, -0.19115973, -0.17271154],\n",
              "       [ 0.12011919,  0.15647537, -0.27148902,  0.24324867, -0.3253375 ,\n",
              "        -0.12639134,  0.22191752,  0.22593032],\n",
              "       [ 0.14809401, -0.3220242 ,  0.10538829,  0.1680389 ,  0.7642825 ,\n",
              "         1.442793  , -0.536029  , -1.2139986 ],\n",
              "       [-0.15525208, -0.24560992,  0.20683976, -0.12253598,  0.03746997,\n",
              "        -0.24757509, -0.29768392, -0.10787065],\n",
              "       [ 0.08974794,  0.06685223, -0.12390576,  0.14904736, -0.0195316 ,\n",
              "        -0.26955932,  0.10837806,  0.25981405],\n",
              "       [ 0.01842594, -0.37319624,  0.27799585, -0.56556004,  1.0054132 ,\n",
              "         0.01466254, -0.13771252, -0.05119399],\n",
              "       [-0.64018834, -1.122553  ,  0.9204733 , -0.5548972 ,  0.5673013 ,\n",
              "         0.20176435, -0.87998396, -0.34097216],\n",
              "       [-0.4004069 , -0.00390933,  0.08101341, -0.19348572,  0.02394218,\n",
              "        -0.22157992, -0.01961712, -0.33892295],\n",
              "       [ 0.01363633, -0.09177923,  0.07901811, -0.01346956, -0.08656103,\n",
              "         1.3580309 , -0.20953752, -0.4211532 ],\n",
              "       [ 0.57179046, -0.24216437,  0.2345327 , -0.33426416,  0.75898266,\n",
              "        -0.08049888, -0.09583781,  0.09259481],\n",
              "       [ 0.9758353 ,  0.42066172, -0.5295254 ,  0.35416242, -0.22457397,\n",
              "        -0.20468019,  0.5780511 ,  0.2609111 ],\n",
              "       [-0.23554714, -0.30623916,  0.289237  , -0.4220811 ,  0.00907403,\n",
              "         0.2623424 , -0.44740233, -0.28318083],\n",
              "       [-0.3746471 , -0.35777813,  0.18793145, -0.17399147,  0.08906405,\n",
              "         0.44249094, -0.6090489 , -0.6900979 ],\n",
              "       [-0.28452602, -0.14130184, -0.03580543, -0.10699868, -0.19641633,\n",
              "         0.17902285, -0.20842378, -0.25836867],\n",
              "       [-0.15882269, -0.0120756 ,  0.0091746 ,  0.29151472,  0.02118203,\n",
              "        -0.10242194,  0.23862731,  0.05875462],\n",
              "       [ 0.14009768, -0.08178248, -0.24862868,  0.5484923 ,  0.46891108,\n",
              "         1.5065811 , -0.7043298 , -1.3417903 ],\n",
              "       [-0.32830375, -0.09002873,  0.1447647 , -0.07304031, -0.04866402,\n",
              "        -0.2064258 , -0.3010009 , -0.11953748],\n",
              "       [-0.39805627, -0.49732536,  0.36644462, -0.5766478 ,  0.02366755,\n",
              "         0.33504856, -0.567544  , -0.30771288],\n",
              "       [ 0.16331023, -0.17012279,  0.08911806, -0.24545133,  0.16238657,\n",
              "         0.27649963,  0.04774198,  0.05011584],\n",
              "       [-0.15313095, -0.15188013,  0.15274125, -0.18241753,  0.06012864,\n",
              "         0.03310487, -0.11806663,  0.16574201],\n",
              "       [ 0.39656886, -0.06515715, -0.43038374,  0.37470707,  0.7635707 ,\n",
              "         1.2847924 , -0.10128643, -0.7795075 ],\n",
              "       [-0.4916391 , -0.5924544 ,  0.6464074 ,  0.04259598,  0.20622158,\n",
              "         0.6357437 , -0.7649704 , -1.1104006 ],\n",
              "       [-0.0419701 , -0.1854905 ,  0.11208017, -0.13964994,  0.39214492,\n",
              "        -0.04684388,  0.01072115,  0.03280152],\n",
              "       [ 0.23678565, -0.45535004,  0.33117697, -0.81580764,  0.81719625,\n",
              "         0.20665863,  0.20745212,  0.05412599],\n",
              "       [-0.12718086,  0.06468844,  0.01521127, -0.365604  ,  0.00355304,\n",
              "        -0.12636235,  0.18414809,  0.14314504],\n",
              "       [-0.389449  , -0.11718602,  0.01508202, -0.31448385, -0.18474801,\n",
              "         0.5751564 , -0.3186786 , -0.6121264 ],\n",
              "       [ 0.11783706, -0.04531156,  0.04759334, -0.17310615,  0.16846614,\n",
              "         0.22445817,  0.02963752, -0.3038468 ],\n",
              "       [ 0.1169562 ,  0.3401674 , -0.48576343,  0.5255001 , -0.50724   ,\n",
              "        -0.14387693,  0.14944056,  0.06528572],\n",
              "       [ 0.2622644 , -0.07638264,  0.09628789,  0.13043901,  0.11408064,\n",
              "        -0.07313137, -0.28482994, -0.03150313],\n",
              "       [-0.01142499,  0.05830236, -0.00638558, -0.07099946,  0.0591194 ,\n",
              "         0.42123145,  0.09625758, -0.18591031],\n",
              "       [ 0.31980118,  0.1766128 , -0.06344266,  0.03421648, -0.01122842,\n",
              "        -0.45879486,  0.27268374,  0.6781293 ],\n",
              "       [-0.58159214,  0.10180353, -0.06492709, -0.04341171, -0.22318736,\n",
              "         0.38818654, -0.06580727, -0.564167  ],\n",
              "       [-0.374352  ,  0.05867063,  0.02170193,  0.01976494, -0.35935202,\n",
              "        -0.11848312, -0.3747775 ,  0.02638286],\n",
              "       [-0.24447167, -0.15340272,  0.03934143, -0.02373432,  0.02637244,\n",
              "         0.27961642, -0.23775138, -0.5490747 ],\n",
              "       [ 0.26704118, -0.20180728,  0.33887455,  0.21236674,  0.40232778,\n",
              "         0.09630067, -0.45073205, -0.2023012 ],\n",
              "       [ 1.8680387 ,  0.34180853, -1.4532629 , -0.28794965, -0.48221475,\n",
              "        -1.1029512 ,  0.89431834,  0.87324315],\n",
              "       [-0.03765309, -0.31815207,  0.07678109,  0.13877572,  0.6703918 ,\n",
              "         1.3449942 , -0.5562453 , -1.0314277 ],\n",
              "       [ 0.3982145 ,  0.05036063, -0.29908583,  0.28286213,  0.7104444 ,\n",
              "         1.3189143 , -0.00383982, -0.91313326],\n",
              "       [-0.31112087, -0.24923566,  0.13572855, -0.03011406,  0.09302919,\n",
              "         0.615953  , -0.43537188, -0.51442695],\n",
              "       [ 0.7249711 , -0.03960459,  0.02257091, -0.19485816,  0.560368  ,\n",
              "         0.04761654,  0.3615447 ,  0.24080962],\n",
              "       [ 0.52279985, -0.47766626,  0.32426822, -0.29646632,  1.0234715 ,\n",
              "         0.50866604, -0.234882  , -0.38607404],\n",
              "       [ 0.56379163,  0.14317153, -0.24803878,  0.16077591, -0.06562178,\n",
              "         0.50413245,  0.30358633, -0.27627718],\n",
              "       [-0.38841242, -0.0481037 , -0.04640119, -0.23301543, -0.12013599,\n",
              "         0.41073394, -0.14443937, -0.46045116],\n",
              "       [ 0.33626065, -0.26321602,  0.06993836,  0.27036393,  0.4461712 ,\n",
              "         1.1329526 , -0.43818212, -0.845739  ],\n",
              "       [-0.18849559, -0.19452277,  0.3647678 , -0.37515414, -0.24115299,\n",
              "        -0.17284875, -0.34822205,  0.12994713],\n",
              "       [-0.01231511,  0.12607329, -0.11607166,  0.1183488 , -0.02372108,\n",
              "        -0.19421373,  0.13253412,  0.03691074],\n",
              "       [-0.5509896 , -0.37183887,  0.10537206,  0.16769107,  0.21138276,\n",
              "         0.7556717 , -0.75492644, -1.0797155 ],\n",
              "       [ 0.01038496,  0.0827302 , -0.04875568,  0.05645175, -0.02910752,\n",
              "        -0.1924264 ,  0.14756948,  0.20005473],\n",
              "       [ 0.14827394, -0.15289442,  0.0952443 , -0.12538742,  0.115391  ,\n",
              "         0.28923994, -0.10365225, -0.13617419],\n",
              "       [ 0.066792  , -0.16347845, -0.01512694,  0.12883879,  0.769979  ,\n",
              "         1.3021317 , -0.45169523, -1.2134131 ],\n",
              "       [ 0.12578724, -0.06500242,  0.02091647,  0.00305894, -0.12673157,\n",
              "         0.03160737, -0.14841399,  0.01744856],\n",
              "       [ 0.31447983, -0.41818675,  0.3297895 , -0.01790494,  0.67947644,\n",
              "         1.0983231 , -0.45888117, -0.9533903 ],\n",
              "       [ 0.01811211, -0.51179385,  0.43937412, -0.13945012,  0.97090095,\n",
              "         0.9685593 , -0.50907457, -0.6770282 ],\n",
              "       [ 0.7134477 ,  0.05126021, -0.08392503,  0.05396719,  0.32179445,\n",
              "         0.6138011 ,  0.13211453, -0.14424819],\n",
              "       [-0.22966997, -0.9214171 ,  0.9908152 , -0.15547597,  0.6789307 ,\n",
              "         0.60246307, -0.61562055, -0.6506507 ],\n",
              "       [ 0.18665949, -0.09624336,  0.02027185, -0.01746748,  0.19471902,\n",
              "         0.01098166,  0.04409169,  0.11104715],\n",
              "       [ 0.7520015 ,  0.2677412 , -0.35813335,  0.26599345,  0.34939903,\n",
              "        -0.00960252,  0.6047981 ,  0.11595821]])"
            ]
          },
          "metadata": {},
          "execution_count": 27
        }
      ]
    },
    {
      "cell_type": "code",
      "source": [
        "import plotly.express as px\n",
        "\n",
        "fig = px.scatter(x=vectors[:,0], y=vectors[:,1], labels={'x':'x', 'y':'y'}, hover_name=words)\n",
        "fig.show()"
      ],
      "metadata": {
        "colab": {
          "base_uri": "https://localhost:8080/",
          "height": 542
        },
        "id": "5H4PxbVJV8jz",
        "outputId": "bc3d353e-a4de-4fb3-be31-24cb1489c07d"
      },
      "execution_count": 28,
      "outputs": [
        {
          "output_type": "display_data",
          "data": {
            "text/html": [
              "<html>\n",
              "<head><meta charset=\"utf-8\" /></head>\n",
              "<body>\n",
              "    <div>            <script src=\"https://cdnjs.cloudflare.com/ajax/libs/mathjax/2.7.5/MathJax.js?config=TeX-AMS-MML_SVG\"></script><script type=\"text/javascript\">if (window.MathJax && window.MathJax.Hub && window.MathJax.Hub.Config) {window.MathJax.Hub.Config({SVG: {font: \"STIX-Web\"}});}</script>                <script type=\"text/javascript\">window.PlotlyConfig = {MathJaxConfig: 'local'};</script>\n",
              "        <script charset=\"utf-8\" src=\"https://cdn.plot.ly/plotly-2.24.1.min.js\"></script>                <div id=\"41e1a6ba-798d-4ddf-8994-313f0e174d57\" class=\"plotly-graph-div\" style=\"height:525px; width:100%;\"></div>            <script type=\"text/javascript\">                                    window.PLOTLYENV=window.PLOTLYENV || {};                                    if (document.getElementById(\"41e1a6ba-798d-4ddf-8994-313f0e174d57\")) {                    Plotly.newPlot(                        \"41e1a6ba-798d-4ddf-8994-313f0e174d57\",                        [{\"hovertemplate\":\"\\u003cb\\u003e%{hovertext}\\u003c\\u002fb\\u003e\\u003cbr\\u003e\\u003cbr\\u003ex=%{x}\\u003cbr\\u003ey=%{y}\\u003cextra\\u003e\\u003c\\u002fextra\\u003e\",\"hovertext\":[\"i\",\"to\",\"you\",\"a\",\"the\",\"u\",\"and\",\"is\",\"in\",\"me\",\"my\",\"for\",\"your\",\"it\",\"of\",\"have\",\"call\",\"on\",\"that\",\"are\",\"2\",\"now\",\"im\",\"so\",\"not\",\"but\",\"do\",\"or\",\"at\",\"ur\",\"can\",\"with\",\"if\",\"get\",\"will\",\"be\",\"just\",\"no\",\"we\",\"this\",\"its\",\"up\",\"4\",\"ltgt\",\"dont\",\"from\",\"go\",\"when\",\"what\",\"out\",\"ok\",\"free\",\"all\",\"how\",\"know\",\"got\",\"ill\",\"am\",\"like\",\"was\",\"good\",\"then\",\"come\",\"time\",\"love\",\"only\",\"day\",\"there\",\"want\",\"send\",\"by\",\"text\",\"as\",\"about\",\"one\",\"going\",\"txt\",\"he\",\"lor\",\"sorry\",\"need\",\"home\",\"stop\",\"back\",\"still\",\"see\",\"r\",\"n\",\"our\",\"her\",\"she\",\"today\",\"da\",\"later\",\"cant\",\"tell\",\"well\",\"reply\"],\"legendgroup\":\"\",\"marker\":{\"color\":\"#636efa\",\"symbol\":\"circle\"},\"mode\":\"markers\",\"name\":\"\",\"orientation\":\"v\",\"showlegend\":false,\"x\":[-0.07338891,0.1626289,0.16565524,0.1899549,-0.035628527,0.035071,-0.14738762,0.07864546,0.00972579,-0.1268178,-0.37758973,0.19599237,-0.13996652,-0.41112933,0.060512844,0.3148752,0.21390028,0.10375545,-0.3141964,0.27891147,0.06684676,-0.028572265,-0.30791807,0.19677012,-0.27120632,-0.48659763,-0.016276976,-0.025485283,0.2869674,0.05377557,0.16327876,0.006464777,0.09872632,-0.367788,0.21423364,-0.092994764,-0.012380437,0.08564202,-0.057735056,0.1852638,-0.48964837,0.07207356,0.12011919,0.14809401,-0.15525208,0.089747936,0.018425945,-0.64018834,-0.4004069,0.0136363255,0.57179046,0.9758353,-0.23554714,-0.3746471,-0.28452602,-0.15882269,0.14009768,-0.32830375,-0.39805627,0.16331023,-0.15313095,0.39656886,-0.4916391,-0.041970097,0.23678565,-0.12718086,-0.389449,0.117837064,0.116956204,0.2622644,-0.011424988,0.31980118,-0.58159214,-0.374352,-0.24447167,0.26704118,1.8680387,-0.037653092,0.3982145,-0.31112087,0.7249711,0.52279985,0.56379163,-0.38841242,0.33626065,-0.18849559,-0.012315107,-0.5509896,0.010384959,0.14827394,0.066792004,0.12578724,0.31447983,0.018112106,0.7134477,-0.22966997,0.18665949,0.7520015],\"xaxis\":\"x\",\"y\":[-0.5247216,0.025673592,-0.13661411,0.049319424,-0.02513792,0.006705962,-0.11421755,0.050086383,-0.21582766,-0.66825396,-0.34811088,0.074124016,0.3105204,-0.5419873,0.004495783,0.1888701,0.67048323,-0.19165275,-0.7007046,0.079498,0.055807635,-0.053535104,-0.8737837,-0.12260079,-0.13697572,-0.52653325,-0.21331616,-0.08891363,-0.28625014,0.21799755,-0.0060309037,0.051415876,-0.025351794,-0.07808847,0.00931463,0.07824336,-0.045486193,-0.1221151,-0.07150878,0.117209114,-0.47816005,-0.17061342,0.15647537,-0.3220242,-0.24560992,0.066852234,-0.37319624,-1.122553,-0.0039093336,-0.091779225,-0.24216437,0.42066172,-0.30623916,-0.35777813,-0.14130184,-0.012075599,-0.08178248,-0.09002873,-0.49732536,-0.17012279,-0.15188013,-0.06515715,-0.5924544,-0.1854905,-0.45535004,0.064688444,-0.11718602,-0.04531156,0.3401674,-0.076382644,0.05830236,0.1766128,0.101803534,0.05867063,-0.15340272,-0.20180728,0.34180853,-0.31815207,0.05036063,-0.24923566,-0.039604586,-0.47766626,0.14317153,-0.048103698,-0.26321602,-0.19452277,0.12607329,-0.37183887,0.082730204,-0.15289442,-0.16347845,-0.06500242,-0.41818675,-0.51179385,0.05126021,-0.9214171,-0.09624336,0.2677412],\"yaxis\":\"y\",\"type\":\"scatter\"}],                        {\"template\":{\"data\":{\"histogram2dcontour\":[{\"type\":\"histogram2dcontour\",\"colorbar\":{\"outlinewidth\":0,\"ticks\":\"\"},\"colorscale\":[[0.0,\"#0d0887\"],[0.1111111111111111,\"#46039f\"],[0.2222222222222222,\"#7201a8\"],[0.3333333333333333,\"#9c179e\"],[0.4444444444444444,\"#bd3786\"],[0.5555555555555556,\"#d8576b\"],[0.6666666666666666,\"#ed7953\"],[0.7777777777777778,\"#fb9f3a\"],[0.8888888888888888,\"#fdca26\"],[1.0,\"#f0f921\"]]}],\"choropleth\":[{\"type\":\"choropleth\",\"colorbar\":{\"outlinewidth\":0,\"ticks\":\"\"}}],\"histogram2d\":[{\"type\":\"histogram2d\",\"colorbar\":{\"outlinewidth\":0,\"ticks\":\"\"},\"colorscale\":[[0.0,\"#0d0887\"],[0.1111111111111111,\"#46039f\"],[0.2222222222222222,\"#7201a8\"],[0.3333333333333333,\"#9c179e\"],[0.4444444444444444,\"#bd3786\"],[0.5555555555555556,\"#d8576b\"],[0.6666666666666666,\"#ed7953\"],[0.7777777777777778,\"#fb9f3a\"],[0.8888888888888888,\"#fdca26\"],[1.0,\"#f0f921\"]]}],\"heatmap\":[{\"type\":\"heatmap\",\"colorbar\":{\"outlinewidth\":0,\"ticks\":\"\"},\"colorscale\":[[0.0,\"#0d0887\"],[0.1111111111111111,\"#46039f\"],[0.2222222222222222,\"#7201a8\"],[0.3333333333333333,\"#9c179e\"],[0.4444444444444444,\"#bd3786\"],[0.5555555555555556,\"#d8576b\"],[0.6666666666666666,\"#ed7953\"],[0.7777777777777778,\"#fb9f3a\"],[0.8888888888888888,\"#fdca26\"],[1.0,\"#f0f921\"]]}],\"heatmapgl\":[{\"type\":\"heatmapgl\",\"colorbar\":{\"outlinewidth\":0,\"ticks\":\"\"},\"colorscale\":[[0.0,\"#0d0887\"],[0.1111111111111111,\"#46039f\"],[0.2222222222222222,\"#7201a8\"],[0.3333333333333333,\"#9c179e\"],[0.4444444444444444,\"#bd3786\"],[0.5555555555555556,\"#d8576b\"],[0.6666666666666666,\"#ed7953\"],[0.7777777777777778,\"#fb9f3a\"],[0.8888888888888888,\"#fdca26\"],[1.0,\"#f0f921\"]]}],\"contourcarpet\":[{\"type\":\"contourcarpet\",\"colorbar\":{\"outlinewidth\":0,\"ticks\":\"\"}}],\"contour\":[{\"type\":\"contour\",\"colorbar\":{\"outlinewidth\":0,\"ticks\":\"\"},\"colorscale\":[[0.0,\"#0d0887\"],[0.1111111111111111,\"#46039f\"],[0.2222222222222222,\"#7201a8\"],[0.3333333333333333,\"#9c179e\"],[0.4444444444444444,\"#bd3786\"],[0.5555555555555556,\"#d8576b\"],[0.6666666666666666,\"#ed7953\"],[0.7777777777777778,\"#fb9f3a\"],[0.8888888888888888,\"#fdca26\"],[1.0,\"#f0f921\"]]}],\"surface\":[{\"type\":\"surface\",\"colorbar\":{\"outlinewidth\":0,\"ticks\":\"\"},\"colorscale\":[[0.0,\"#0d0887\"],[0.1111111111111111,\"#46039f\"],[0.2222222222222222,\"#7201a8\"],[0.3333333333333333,\"#9c179e\"],[0.4444444444444444,\"#bd3786\"],[0.5555555555555556,\"#d8576b\"],[0.6666666666666666,\"#ed7953\"],[0.7777777777777778,\"#fb9f3a\"],[0.8888888888888888,\"#fdca26\"],[1.0,\"#f0f921\"]]}],\"mesh3d\":[{\"type\":\"mesh3d\",\"colorbar\":{\"outlinewidth\":0,\"ticks\":\"\"}}],\"scatter\":[{\"fillpattern\":{\"fillmode\":\"overlay\",\"size\":10,\"solidity\":0.2},\"type\":\"scatter\"}],\"parcoords\":[{\"type\":\"parcoords\",\"line\":{\"colorbar\":{\"outlinewidth\":0,\"ticks\":\"\"}}}],\"scatterpolargl\":[{\"type\":\"scatterpolargl\",\"marker\":{\"colorbar\":{\"outlinewidth\":0,\"ticks\":\"\"}}}],\"bar\":[{\"error_x\":{\"color\":\"#2a3f5f\"},\"error_y\":{\"color\":\"#2a3f5f\"},\"marker\":{\"line\":{\"color\":\"#E5ECF6\",\"width\":0.5},\"pattern\":{\"fillmode\":\"overlay\",\"size\":10,\"solidity\":0.2}},\"type\":\"bar\"}],\"scattergeo\":[{\"type\":\"scattergeo\",\"marker\":{\"colorbar\":{\"outlinewidth\":0,\"ticks\":\"\"}}}],\"scatterpolar\":[{\"type\":\"scatterpolar\",\"marker\":{\"colorbar\":{\"outlinewidth\":0,\"ticks\":\"\"}}}],\"histogram\":[{\"marker\":{\"pattern\":{\"fillmode\":\"overlay\",\"size\":10,\"solidity\":0.2}},\"type\":\"histogram\"}],\"scattergl\":[{\"type\":\"scattergl\",\"marker\":{\"colorbar\":{\"outlinewidth\":0,\"ticks\":\"\"}}}],\"scatter3d\":[{\"type\":\"scatter3d\",\"line\":{\"colorbar\":{\"outlinewidth\":0,\"ticks\":\"\"}},\"marker\":{\"colorbar\":{\"outlinewidth\":0,\"ticks\":\"\"}}}],\"scattermapbox\":[{\"type\":\"scattermapbox\",\"marker\":{\"colorbar\":{\"outlinewidth\":0,\"ticks\":\"\"}}}],\"scatterternary\":[{\"type\":\"scatterternary\",\"marker\":{\"colorbar\":{\"outlinewidth\":0,\"ticks\":\"\"}}}],\"scattercarpet\":[{\"type\":\"scattercarpet\",\"marker\":{\"colorbar\":{\"outlinewidth\":0,\"ticks\":\"\"}}}],\"carpet\":[{\"aaxis\":{\"endlinecolor\":\"#2a3f5f\",\"gridcolor\":\"white\",\"linecolor\":\"white\",\"minorgridcolor\":\"white\",\"startlinecolor\":\"#2a3f5f\"},\"baxis\":{\"endlinecolor\":\"#2a3f5f\",\"gridcolor\":\"white\",\"linecolor\":\"white\",\"minorgridcolor\":\"white\",\"startlinecolor\":\"#2a3f5f\"},\"type\":\"carpet\"}],\"table\":[{\"cells\":{\"fill\":{\"color\":\"#EBF0F8\"},\"line\":{\"color\":\"white\"}},\"header\":{\"fill\":{\"color\":\"#C8D4E3\"},\"line\":{\"color\":\"white\"}},\"type\":\"table\"}],\"barpolar\":[{\"marker\":{\"line\":{\"color\":\"#E5ECF6\",\"width\":0.5},\"pattern\":{\"fillmode\":\"overlay\",\"size\":10,\"solidity\":0.2}},\"type\":\"barpolar\"}],\"pie\":[{\"automargin\":true,\"type\":\"pie\"}]},\"layout\":{\"autotypenumbers\":\"strict\",\"colorway\":[\"#636efa\",\"#EF553B\",\"#00cc96\",\"#ab63fa\",\"#FFA15A\",\"#19d3f3\",\"#FF6692\",\"#B6E880\",\"#FF97FF\",\"#FECB52\"],\"font\":{\"color\":\"#2a3f5f\"},\"hovermode\":\"closest\",\"hoverlabel\":{\"align\":\"left\"},\"paper_bgcolor\":\"white\",\"plot_bgcolor\":\"#E5ECF6\",\"polar\":{\"bgcolor\":\"#E5ECF6\",\"angularaxis\":{\"gridcolor\":\"white\",\"linecolor\":\"white\",\"ticks\":\"\"},\"radialaxis\":{\"gridcolor\":\"white\",\"linecolor\":\"white\",\"ticks\":\"\"}},\"ternary\":{\"bgcolor\":\"#E5ECF6\",\"aaxis\":{\"gridcolor\":\"white\",\"linecolor\":\"white\",\"ticks\":\"\"},\"baxis\":{\"gridcolor\":\"white\",\"linecolor\":\"white\",\"ticks\":\"\"},\"caxis\":{\"gridcolor\":\"white\",\"linecolor\":\"white\",\"ticks\":\"\"}},\"coloraxis\":{\"colorbar\":{\"outlinewidth\":0,\"ticks\":\"\"}},\"colorscale\":{\"sequential\":[[0.0,\"#0d0887\"],[0.1111111111111111,\"#46039f\"],[0.2222222222222222,\"#7201a8\"],[0.3333333333333333,\"#9c179e\"],[0.4444444444444444,\"#bd3786\"],[0.5555555555555556,\"#d8576b\"],[0.6666666666666666,\"#ed7953\"],[0.7777777777777778,\"#fb9f3a\"],[0.8888888888888888,\"#fdca26\"],[1.0,\"#f0f921\"]],\"sequentialminus\":[[0.0,\"#0d0887\"],[0.1111111111111111,\"#46039f\"],[0.2222222222222222,\"#7201a8\"],[0.3333333333333333,\"#9c179e\"],[0.4444444444444444,\"#bd3786\"],[0.5555555555555556,\"#d8576b\"],[0.6666666666666666,\"#ed7953\"],[0.7777777777777778,\"#fb9f3a\"],[0.8888888888888888,\"#fdca26\"],[1.0,\"#f0f921\"]],\"diverging\":[[0,\"#8e0152\"],[0.1,\"#c51b7d\"],[0.2,\"#de77ae\"],[0.3,\"#f1b6da\"],[0.4,\"#fde0ef\"],[0.5,\"#f7f7f7\"],[0.6,\"#e6f5d0\"],[0.7,\"#b8e186\"],[0.8,\"#7fbc41\"],[0.9,\"#4d9221\"],[1,\"#276419\"]]},\"xaxis\":{\"gridcolor\":\"white\",\"linecolor\":\"white\",\"ticks\":\"\",\"title\":{\"standoff\":15},\"zerolinecolor\":\"white\",\"automargin\":true,\"zerolinewidth\":2},\"yaxis\":{\"gridcolor\":\"white\",\"linecolor\":\"white\",\"ticks\":\"\",\"title\":{\"standoff\":15},\"zerolinecolor\":\"white\",\"automargin\":true,\"zerolinewidth\":2},\"scene\":{\"xaxis\":{\"backgroundcolor\":\"#E5ECF6\",\"gridcolor\":\"white\",\"linecolor\":\"white\",\"showbackground\":true,\"ticks\":\"\",\"zerolinecolor\":\"white\",\"gridwidth\":2},\"yaxis\":{\"backgroundcolor\":\"#E5ECF6\",\"gridcolor\":\"white\",\"linecolor\":\"white\",\"showbackground\":true,\"ticks\":\"\",\"zerolinecolor\":\"white\",\"gridwidth\":2},\"zaxis\":{\"backgroundcolor\":\"#E5ECF6\",\"gridcolor\":\"white\",\"linecolor\":\"white\",\"showbackground\":true,\"ticks\":\"\",\"zerolinecolor\":\"white\",\"gridwidth\":2}},\"shapedefaults\":{\"line\":{\"color\":\"#2a3f5f\"}},\"annotationdefaults\":{\"arrowcolor\":\"#2a3f5f\",\"arrowhead\":0,\"arrowwidth\":1},\"geo\":{\"bgcolor\":\"white\",\"landcolor\":\"#E5ECF6\",\"subunitcolor\":\"white\",\"showland\":true,\"showlakes\":true,\"lakecolor\":\"white\"},\"title\":{\"x\":0.05},\"mapbox\":{\"style\":\"light\"}}},\"xaxis\":{\"anchor\":\"y\",\"domain\":[0.0,1.0],\"title\":{\"text\":\"x\"}},\"yaxis\":{\"anchor\":\"x\",\"domain\":[0.0,1.0],\"title\":{\"text\":\"y\"}},\"legend\":{\"tracegroupgap\":0},\"margin\":{\"t\":60}},                        {\"responsive\": true}                    ).then(function(){\n",
              "                            \n",
              "var gd = document.getElementById('41e1a6ba-798d-4ddf-8994-313f0e174d57');\n",
              "var x = new MutationObserver(function (mutations, observer) {{\n",
              "        var display = window.getComputedStyle(gd).display;\n",
              "        if (!display || display === 'none') {{\n",
              "            console.log([gd, 'removed!']);\n",
              "            Plotly.purge(gd);\n",
              "            observer.disconnect();\n",
              "        }}\n",
              "}});\n",
              "\n",
              "// Listen for the removal of the full notebook cells\n",
              "var notebookContainer = gd.closest('#notebook-container');\n",
              "if (notebookContainer) {{\n",
              "    x.observe(notebookContainer, {childList: true});\n",
              "}}\n",
              "\n",
              "// Listen for the clearing of the current output cell\n",
              "var outputEl = gd.closest('.output');\n",
              "if (outputEl) {{\n",
              "    x.observe(outputEl, {childList: true});\n",
              "}}\n",
              "\n",
              "                        })                };                            </script>        </div>\n",
              "</body>\n",
              "</html>"
            ]
          },
          "metadata": {}
        }
      ]
    },
    {
      "cell_type": "code",
      "source": [
        "model2 = Sequential()\n",
        "model2.add(Input(shape=(1,), dtype=\"string\"))\n",
        "model2.add(vectorize_layer)\n",
        "model2.add(Embedding(max_tokens + 1, 2))\n",
        "model2.add(SimpleRNN(16, return_sequences=True))\n",
        "model2.add(SimpleRNN(16))\n",
        "model2.add(Dense(16, activation=\"relu\"))\n",
        "model2.add(Dense(1, activation=\"sigmoid\"))\n",
        "model2.summary()"
      ],
      "metadata": {
        "colab": {
          "base_uri": "https://localhost:8080/"
        },
        "id": "_CDooxO4WA5j",
        "outputId": "86923d5d-c08b-415b-f3b4-9e7e39aab4ff"
      },
      "execution_count": 29,
      "outputs": [
        {
          "output_type": "stream",
          "name": "stdout",
          "text": [
            "Model: \"sequential_1\"\n",
            "_________________________________________________________________\n",
            " Layer (type)                Output Shape              Param #   \n",
            "=================================================================\n",
            " text_vectorization (TextVe  (None, 10)                0         \n",
            " ctorization)                                                    \n",
            "                                                                 \n",
            " embedding_1 (Embedding)     (None, 10, 2)             202       \n",
            "                                                                 \n",
            " simple_rnn (SimpleRNN)      (None, 10, 16)            304       \n",
            "                                                                 \n",
            " simple_rnn_1 (SimpleRNN)    (None, 16)                528       \n",
            "                                                                 \n",
            " dense_2 (Dense)             (None, 16)                272       \n",
            "                                                                 \n",
            " dense_3 (Dense)             (None, 1)                 17        \n",
            "                                                                 \n",
            "=================================================================\n",
            "Total params: 1323 (5.17 KB)\n",
            "Trainable params: 1323 (5.17 KB)\n",
            "Non-trainable params: 0 (0.00 Byte)\n",
            "_________________________________________________________________\n"
          ]
        }
      ]
    },
    {
      "cell_type": "code",
      "source": [
        "model2.compile(\n",
        "  optimizer='adam',\n",
        "  loss='binary_crossentropy',\n",
        "  metrics=['accuracy'],\n",
        ")"
      ],
      "metadata": {
        "id": "p7FFeXVQWCSr"
      },
      "execution_count": 30,
      "outputs": []
    },
    {
      "cell_type": "code",
      "source": [
        "history = model2.fit(X_train, y_train, epochs=10)\n"
      ],
      "metadata": {
        "colab": {
          "base_uri": "https://localhost:8080/"
        },
        "id": "zTTQefY2WDqT",
        "outputId": "7fa9272b-a3de-4639-b63c-9385d2f4e869"
      },
      "execution_count": 31,
      "outputs": [
        {
          "output_type": "stream",
          "name": "stdout",
          "text": [
            "Epoch 1/10\n",
            "140/140 [==============================] - 10s 50ms/step - loss: 0.4030 - accuracy: 0.8562\n",
            "Epoch 2/10\n",
            "140/140 [==============================] - 4s 26ms/step - loss: 0.2202 - accuracy: 0.9159\n",
            "Epoch 3/10\n",
            "140/140 [==============================] - 4s 32ms/step - loss: 0.1892 - accuracy: 0.9295\n",
            "Epoch 4/10\n",
            "140/140 [==============================] - 4s 31ms/step - loss: 0.1826 - accuracy: 0.9302\n",
            "Epoch 5/10\n",
            "140/140 [==============================] - 3s 25ms/step - loss: 0.1751 - accuracy: 0.9358\n",
            "Epoch 6/10\n",
            "140/140 [==============================] - 4s 31ms/step - loss: 0.1706 - accuracy: 0.9376\n",
            "Epoch 7/10\n",
            "140/140 [==============================] - 3s 25ms/step - loss: 0.1675 - accuracy: 0.9381\n",
            "Epoch 8/10\n",
            "140/140 [==============================] - 3s 25ms/step - loss: 0.1669 - accuracy: 0.9412\n",
            "Epoch 9/10\n",
            "140/140 [==============================] - 3s 24ms/step - loss: 0.1676 - accuracy: 0.9372\n",
            "Epoch 10/10\n",
            "140/140 [==============================] - 4s 31ms/step - loss: 0.1637 - accuracy: 0.9401\n"
          ]
        }
      ]
    },
    {
      "cell_type": "code",
      "source": [
        "plt.plot(history.history['accuracy'])\n",
        "plt.title('model accuracy')\n",
        "plt.ylabel('accuracy')\n",
        "plt.xlabel('epoch')\n",
        "plt.legend(['train', 'test'], loc='upper left')\n",
        "plt.show()"
      ],
      "metadata": {
        "colab": {
          "base_uri": "https://localhost:8080/",
          "height": 472
        },
        "id": "xQK72xnQWMHE",
        "outputId": "5b09ea62-72d4-4d19-d462-158726d20dec"
      },
      "execution_count": 32,
      "outputs": [
        {
          "output_type": "display_data",
          "data": {
            "text/plain": [
              "<Figure size 640x480 with 1 Axes>"
            ],
            "image/png": "[encoded data removed]"
          },
          "metadata": {}
        }
      ]
    }
  ]
}